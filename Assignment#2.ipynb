{
 "cells": [
  {
   "cell_type": "code",
   "execution_count": 1,
   "metadata": {},
   "outputs": [],
   "source": [
    "import pandas as pd\n",
    "data = pd.read_csv(\"multivariateData.dat\",header=None,names=['Size','Bedrooms','Price'])"
   ]
  },
  {
   "cell_type": "code",
   "execution_count": 2,
   "metadata": {},
   "outputs": [
    {
     "name": "stdout",
     "output_type": "stream",
     "text": [
      "       Size  Bedrooms     Price\n",
      "0  0.130010 -0.223675  0.475747\n",
      "1 -0.504190 -0.223675 -0.084074\n",
      "2  0.502476 -0.223675  0.228626\n",
      "3 -0.735723 -1.537767 -0.867025\n",
      "4  1.257476  1.090417  1.595389\n"
     ]
    }
   ],
   "source": [
    "# rescaling data\n",
    "data = (data - data.mean()) / data.std()\n",
    "print(data.head(5))"
   ]
  },
  {
   "cell_type": "code",
   "execution_count": 3,
   "metadata": {},
   "outputs": [],
   "source": [
    "# add ones column\n",
    "data.insert(0,'X0',1)"
   ]
  },
  {
   "cell_type": "code",
   "execution_count": 4,
   "metadata": {},
   "outputs": [
    {
     "name": "stdout",
     "output_type": "stream",
     "text": [
      "   X0      Size  Bedrooms     Price\n",
      "0   1  0.130010 -0.223675  0.475747\n",
      "1   1 -0.504190 -0.223675 -0.084074\n",
      "2   1  0.502476 -0.223675  0.228626\n",
      "3   1 -0.735723 -1.537767 -0.867025\n",
      "4   1  1.257476  1.090417  1.595389\n"
     ]
    }
   ],
   "source": [
    "print(data.head(5))"
   ]
  },
  {
   "cell_type": "code",
   "execution_count": 5,
   "metadata": {},
   "outputs": [
    {
     "name": "stdout",
     "output_type": "stream",
     "text": [
      "(47, 4)\n"
     ]
    }
   ],
   "source": [
    "print(data.shape)"
   ]
  },
  {
   "cell_type": "code",
   "execution_count": 6,
   "metadata": {},
   "outputs": [],
   "source": [
    "#split train & test data\n",
    "train = pd.DataFrame()\n",
    "test = pd.DataFrame()\n",
    "train_size =int(0.9 * len(data)) \n",
    "train=train.append(data.iloc[0:train_size,:])\n",
    "test=test.append(data.iloc[train_size:len(data),:])\n",
    "#print(train)\n",
    "#print(test)"
   ]
  },
  {
   "cell_type": "code",
   "execution_count": 7,
   "metadata": {},
   "outputs": [],
   "source": [
    "#separate X (train data) from Y (target)\n",
    "x=train.iloc[:,0:3] #features\n",
    "y=train.iloc[:,3:4] #target\n",
    "\n"
   ]
  },
  {
   "cell_type": "code",
   "execution_count": 8,
   "metadata": {},
   "outputs": [],
   "source": [
    "#convert to matrices and initialize theta\n",
    "import numpy as np\n",
    "x=np.matrix(x.values)\n",
    "y=np.matrix(y.values)\n",
    "theta=np.matrix(np.array([0,0,0]))"
   ]
  },
  {
   "cell_type": "code",
   "execution_count": 9,
   "metadata": {},
   "outputs": [
    {
     "name": "stdout",
     "output_type": "stream",
     "text": [
      "0.5171610919914761\n"
     ]
    }
   ],
   "source": [
    "#cost function\n",
    "def computeCost(x, y, theta):\n",
    "    z=np.power(((x * theta.T)-y),2)\n",
    "    return np.sum(z)/(2 * len(x))\n",
    "\n",
    "print(computeCost(x,y,theta))"
   ]
  },
  {
   "cell_type": "code",
   "execution_count": 10,
   "metadata": {},
   "outputs": [
    {
     "name": "stdout",
     "output_type": "stream",
     "text": [
      "g= [[ 0.00799954  0.89631267 -0.03361089]]\n",
      "final_cost= 0.1346943257176616\n"
     ]
    }
   ],
   "source": [
    "# gradient Descent\n",
    "def gradientDescent(x, y, theta, learning_rate, iterations):\n",
    "    temp=np.matrix(np.zeros(theta.shape))\n",
    "    parameters=int(theta.ravel().shape[1])\n",
    "    cost=np.zeros(iterations)\n",
    "    \n",
    "    for i in range(iterations):\n",
    "        error=(x * theta.T) - y\n",
    "        for j in range(parameters):\n",
    "            term=np.multiply(error,x[:,j])\n",
    "            temp[0,j]=theta[0,j] - ((learning_rate/len(x)) * np.sum(term))\n",
    "            \n",
    "        theta=temp\n",
    "        cost[i]=computeCost(x, y, theta)\n",
    "        \n",
    "    return theta, cost\n",
    "\n",
    "g, cost=gradientDescent(x,y,theta,0.1,100)\n",
    "print('g=',g)\n",
    "#print('cost=',cost)\n",
    "print('final_cost=',computeCost(x,y,g))"
   ]
  },
  {
   "cell_type": "code",
   "execution_count": 24,
   "metadata": {},
   "outputs": [
    {
     "data": {
      "text/plain": [
       "Text(0.5, 1.0, 'Size vs. Price')"
      ]
     },
     "execution_count": 24,
     "metadata": {},
     "output_type": "execute_result"
    },
    {
     "data": {
      "image/png": "[encoded data removed]",
      "text/plain": [
       "<Figure size 432x288 with 1 Axes>"
      ]
     },
     "metadata": {
      "needs_background": "light"
     },
     "output_type": "display_data"
    }
   ],
   "source": [
    "#get best fit line for size vs. price\n",
    "import matplotlib.pyplot as plt\n",
    "x_axis=np.linspace(test.Size.min(), test.Size.max(), 100)\n",
    "predicted=g[0,0] + (g[0,1]*x_axis) + (g[0,2]*x_axis) #prediction\n",
    "fig, ax=plt.subplots()\n",
    "ax.plot(x_axis, predicted, 'r', label='prediction')\n",
    "ax.scatter(test.Size, test.Price, label='test data')\n",
    "ax.legend(loc=2)\n",
    "ax.set_xlabel('Size')\n",
    "ax.set_ylabel('Price')\n",
    "ax.set_title('Size vs. Price')"
   ]
  },
  {
   "cell_type": "code",
   "execution_count": 32,
   "metadata": {},
   "outputs": [
    {
     "name": "stdout",
     "output_type": "stream",
     "text": [
      "[[ 0.61007816]\n",
      " [-0.88753812]\n",
      " [-1.23586547]\n",
      " [-0.19634145]\n",
      " [-0.88415454]]\n"
     ]
    }
   ],
   "source": [
    "# Evaluate regression algorithm on test data\n",
    "# Calculate root mean squared error\n",
    "def rmse_metric(actual, predicted):\n",
    "    sum_error = 0.0\n",
    "    for i in range(len(actual)):\n",
    "        prediction_error = predicted[i] - actual[i]\n",
    "        sum_error += (prediction_error ** 2)\n",
    "    mean_error = sum_error / float(len(actual))\n",
    "    return sqrt(mean_error)\n",
    "\n",
    "#separate X (test data) from Y (target)\n",
    "x_test=test.iloc[:,0:3] #features\n",
    "y_test=test.iloc[:,3:4] #target\n",
    "x_test=np.matrix(x_test.values)\n",
    "y_test=np.matrix(y_test.values)\n",
    "predicted=x_test * g.T #prediction\n",
    "print(predicted)"
   ]
  },
  {
   "cell_type": "code",
   "execution_count": 12,
   "metadata": {},
   "outputs": [
    {
     "data": {
      "text/plain": [
       "Text(0, 0.5, 'Cost')"
      ]
     },
     "execution_count": 12,
     "metadata": {},
     "output_type": "execute_result"
    },
    {
     "data": {
      "image/png": "[encoded data removed]",
      "text/plain": [
       "<Figure size 432x288 with 1 Axes>"
      ]
     },
     "metadata": {
      "needs_background": "light"
     },
     "output_type": "display_data"
    }
   ],
   "source": [
    "# draw error graph\n",
    "fig, ax=plt.subplots()\n",
    "ax.plot(np.arange(100), cost, 'r')\n",
    "ax.set_xlabel('Iterations')\n",
    "ax.set_ylabel('Cost')"
   ]
  },
  {
   "cell_type": "code",
   "execution_count": null,
   "metadata": {},
   "outputs": [],
   "source": []
  }
 ],
 "metadata": {
  "kernelspec": {
   "display_name": "Python 3",
   "language": "python",
   "name": "python3"
  },
  "language_info": {
   "codemirror_mode": {
    "name": "ipython",
    "version": 3
   },
   "file_extension": ".py",
   "mimetype": "text/x-python",
   "name": "python",
   "nbconvert_exporter": "python",
   "pygments_lexer": "ipython3",
   "version": "3.8.3"
  }
 },
 "nbformat": 4,
 "nbformat_minor": 4
}
